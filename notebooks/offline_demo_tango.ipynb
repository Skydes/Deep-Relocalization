{
 "cells": [
  {
   "cell_type": "code",
   "execution_count": 1,
   "metadata": {},
   "outputs": [],
   "source": [
    "import numpy as np\n",
    "import cv2\n",
    "from pathlib import Path\n",
    "from scipy.spatial import cKDTree\n",
    "from sklearn.decomposition import PCA\n",
    "import matplotlib.pyplot as plt\n",
    "\n",
    "from descriptor_index_pb2 import DescriptorIndex\n",
    "from debug_fusion_pb2 import DebugFusion\n",
    "from utils import plot_imgs\n",
    "%load_ext autoreload\n",
    "%autoreload 2\n",
    "\n",
    "INDEX_ROOT = '../deep-relocalization/data/'\n",
    "MAP_ROOT = '../deep-relocalization/maps/'"
   ]
  },
  {
   "cell_type": "code",
   "execution_count": 2,
   "metadata": {},
   "outputs": [],
   "source": [
    "def get_index(name):\n",
    "    index = DescriptorIndex()\n",
    "    with open(Path(INDEX_ROOT, name).as_posix(), 'rb') as f:\n",
    "        index.ParseFromString(f.read())\n",
    "    return index\n",
    "def get_debug_data(name):\n",
    "    debug = DebugFusion()\n",
    "    with open(Path(INDEX_ROOT, 'loc_debug', name).as_posix(), 'rb') as f:\n",
    "        debug.ParseFromString(f.read())\n",
    "    return debug\n",
    "def get_data_from_index(index):\n",
    "    positions = np.stack([f.position_vector.data for f in index.frames])\n",
    "    rotations = np.stack([np.reshape(f.rotation_matrix.data, (3, 3), order='C') for f in index.frames])\n",
    "    descriptors = np.stack([f.global_descriptor.data for f in index.frames])\n",
    "    resources = np.stack([f.resource_name for f in index.frames])\n",
    "    ids = [f.vertex_id for f in index.frames]\n",
    "    return {'pos': positions, 'rot': rotations, 'descriptors': descriptors, 'res': resources, 'ids': ids}\n",
    "def get_image(index, i):\n",
    "    root = Path(MAP_ROOT, index.data_name.split('/')[-1], 'resources/raw_images/')\n",
    "    return cv2.imread(Path(root, '%s.pgm' % index.frames[i].resource_name).as_posix())"
   ]
  },
  {
   "cell_type": "code",
   "execution_count": 3,
   "metadata": {},
   "outputs": [],
   "source": [
    "ref_index = get_index('lindenhof_afternoon_aligned_mobilenet-d0.35.pb')\n",
    "query_index = get_index('lindenhof_wet_aligned_mobilenet-d0.35.pb')\n",
    "ref_data = get_data_from_index(ref_index)\n",
    "query_data = get_data_from_index(query_index)"
   ]
  },
  {
   "cell_type": "code",
   "execution_count": 4,
   "metadata": {},
   "outputs": [],
   "source": [
    "direct_data = get_debug_data('loc_baseline-freak.pb')\n",
    "mnv_data = get_debug_data('loc_mobilenet-d0.35-pca512-NN10_sift.pb')"
   ]
  },
  {
   "cell_type": "code",
   "execution_count": 5,
   "metadata": {},
   "outputs": [],
   "source": [
    "direct_ok_queries = [q for q in direct_data.query_components if q.status in ['ok', 'wrong']]\n",
    "direct_fail_queries = [q for q in direct_data.query_components if q.status == 'fail']\n",
    "mnv_ok_queries = [q for q in mnv_data.query_components if q.status in ['ok', 'wrong']]\n",
    "mnv_fail_queries = [q for q in mnv_data.query_components if q.status == 'fail']"
   ]
  },
  {
   "cell_type": "code",
   "execution_count": 6,
   "metadata": {},
   "outputs": [],
   "source": [
    "direct_ok_ids = [q.query_id for q in direct_ok_queries]\n",
    "direct_fail_ids = [q.query_id for q in direct_fail_queries]\n",
    "mnv_ok_ids = [q.query_id for q in mnv_ok_queries]\n",
    "mnv_fail_ids = [q.query_id for q in mnv_fail_queries]"
   ]
  },
  {
   "cell_type": "code",
   "execution_count": 7,
   "metadata": {},
   "outputs": [],
   "source": [
    "def drawMatches(img1, kp1, img2, kp2, matches, color=None, kp_radius=5, thickness=2, margin=20): \n",
    "    if len(img1.shape) == 3:\n",
    "        new_shape = (max(img1.shape[0], img2.shape[0]), img1.shape[1]+img2.shape[1]+margin, img1.shape[2])\n",
    "    elif len(img1.shape) == 2:\n",
    "        new_shape = (max(img1.shape[0], img2.shape[0]), img1.shape[1]+img2.shape[1]+margin)\n",
    "    new_img = np.ones(new_shape, type(img1.flat[0]))*255\n",
    "    # Place images onto the new image.\n",
    "    new_img[0:img1.shape[0],0:img1.shape[1]] = img1\n",
    "    new_img[0:img2.shape[0],img1.shape[1]+margin:img1.shape[1]+img2.shape[1]+margin] = img2\n",
    "    \n",
    "    # Draw lines between matches.  Make sure to offset kp coords in second image appropriately.\n",
    "    if color:\n",
    "        c = color\n",
    "    for m in matches:\n",
    "        # Generate random color for RGB/BGR and grayscale images as needed.\n",
    "        if not color: \n",
    "            c = np.random.randint(0,256,3) if len(img1.shape) == 3 else np.random.randint(0,256)\n",
    "            c = (int(c[0]), int(c[1]), int(c[2]))\n",
    "        # So the keypoint locs are stored as a tuple of floats.  cv2.line(), like most other things,\n",
    "        # wants locs as a tuple of ints.\n",
    "        end1 = tuple(np.round(kp1[m.trainIdx].pt).astype(int))\n",
    "        end2 = tuple(np.round(kp2[m.queryIdx].pt).astype(int) + np.array([img1.shape[1]+margin, 0]))\n",
    "        cv2.line(new_img, end1, end2, c, thickness, lineType=cv2.LINE_AA)\n",
    "        cv2.circle(new_img, end1, kp_radius, c, thickness, lineType=cv2.LINE_AA)\n",
    "        cv2.circle(new_img, end2, kp_radius, c, thickness, lineType=cv2.LINE_AA)\n",
    "    return new_img"
   ]
  },
  {
   "cell_type": "code",
   "execution_count": 8,
   "metadata": {},
   "outputs": [],
   "source": [
    "def meas2kp(meas):\n",
    "    return cv2.KeyPoint(meas.data[0], meas.data[1], 1)\n",
    "def find_sorted_matches(q):\n",
    "    matches = [[] for _ in range(len(q.retrieved_ids))]\n",
    "    for m in q.matches:\n",
    "        matches[q.retrieved_ids[:].index(m.db_vertex_id)].append(m)\n",
    "    ids_matches = sorted(zip(q.retrieved_ids[:], matches), key=lambda i: len(i[1]), reverse=True)\n",
    "    return ids_matches\n",
    "def get_match_patches(q, n_retrieved=1, margin=0):\n",
    "    query_im = get_image(query_index, query_data['ids'].index(q.query_id))\n",
    "    ids_matches = find_sorted_matches(q)\n",
    "    query_im = get_image(query_index, query_data['ids'].index(q.query_id))\n",
    "#    print('Num matches: {}'.format([len(m[1]) for m in ids_matches]))\n",
    "#    print('Num inliers: {}'.format(q.num_inliers))\n",
    "    patches = []\n",
    "    retrieved_ims = []\n",
    "    for _, (retrieved_id, matches) in zip(range(n_retrieved), ids_matches):\n",
    "        if retrieved_id not in ref_data['ids']:\n",
    "            continue\n",
    "        retrieved_im = get_image(ref_index, ref_data['ids'].index(retrieved_id))\n",
    "        query_kps = [meas2kp(m.query_measurement) for m in matches]\n",
    "        retrieved_kps = [meas2kp(m.db_measurement) for m in matches]\n",
    "        cv_matches = [cv2.DMatch(i, i, 1) for i in range(len(matches))]\n",
    "        patches.append(drawMatches(query_im, query_kps, retrieved_im, retrieved_kps, cv_matches, None, margin=margin))\n",
    "        retrieved_ims.append(retrieved_im)\n",
    "    return patches, query_im, retrieved_ims\n",
    "def get_image_for_query(query_id, ids, queries, shape):\n",
    "    if query_id in ids:\n",
    "        q = queries[ids.index(query_id)]\n",
    "        retrieved_id = find_sorted_matches(q)[0][0]\n",
    "        if retrieved_id in ref_data['ids']:\n",
    "            return get_image(ref_index, ref_data['ids'].index(retrieved_id))\n",
    "        else:\n",
    "            return np.ones(shape)\n",
    "    else:\n",
    "        return np.zeros(shape)\n",
    "def get_patch_for_query(query_id, ids, queries, margin=0):\n",
    "    if query_id in ids:\n",
    "        q = queries[ids.index(query_id)]\n",
    "        patch = get_match_patches(q, n_retrieved=1, margin=margin)[0]\n",
    "        if len(patch): return (patch[0], True)\n",
    "    query_im = get_image(query_index, query_data['ids'].index(query_id))\n",
    "    h, w, c = query_im.shape\n",
    "    ret = np.ones((h, 2*w+margin, c), dtype=np.uint8)*255\n",
    "    ret[:, :w,] = query_im\n",
    "    ret[:, w+margin:] = 0\n",
    "    return (ret, False)"
   ]
  },
  {
   "cell_type": "code",
   "execution_count": 34,
   "metadata": {
    "scrolled": false
   },
   "outputs": [],
   "source": [
    "h, w, c = (480, 640, 3)\n",
    "m = 10\n",
    "total_size = (m+2*(h+m), 3*m+w*2, c)\n",
    "direct_cnt, mnv_cnt = 0, 0\n",
    "direct_loc, mnv_loc = [], []\n",
    "out = cv2.VideoWriter('./plots/demo_v4.avi', cv2.VideoWriter_fourcc(*'MJPG'), 2, total_size[:2][::-1], isColor=True)\n",
    "for i, query_id in zip(range(20000), query_data['ids'][390:690]):\n",
    "    direct_patch, direct_ret = get_patch_for_query(query_id, direct_ok_ids, direct_ok_queries, margin=m)\n",
    "    mnv_patch, mnv_ret = get_patch_for_query(query_id, mnv_ok_ids, mnv_ok_queries, margin=m)\n",
    "    \n",
    "    direct_cnt += direct_ret\n",
    "    mnv_cnt += mnv_ret\n",
    "    direct_loc.append(direct_ret)\n",
    "    mnv_loc.append(mnv_ret)\n",
    "    \n",
    "    def add_text(img, text):\n",
    "        cv2.putText(img, text, (w+m+15, h-15), cv2.FONT_HERSHEY_SIMPLEX, \n",
    "                    1, (255,255,255), 2, cv2.LINE_AA)\n",
    "    add_text(direct_patch, 'Localizations: {}'.format(direct_cnt))\n",
    "    add_text(mnv_patch, 'Localizations: {}'.format(mnv_cnt))\n",
    "\n",
    "    patch = np.ones(total_size, np.int)*255\n",
    "    patch[m:h+m, m:-m] = direct_patch\n",
    "    patch[h+2*m:-m, m:-m] = mnv_patch\n",
    "    \n",
    "#    plot_imgs([patch])\n",
    "    out.write(patch.astype(np.uint8))\n",
    "out.release()"
   ]
  },
  {
   "cell_type": "code",
   "execution_count": 32,
   "metadata": {},
   "outputs": [
    {
     "data": {
      "image/png": "[encoded data removed]",
      "text/plain": [
       "<Figure size 432x288 with 1 Axes>"
      ]
     },
     "metadata": {},
     "output_type": "display_data"
    }
   ],
   "source": [
    "plt.plot(np.cumsum(direct_loc[390:690]));\n",
    "plt.plot(np.cumsum(mnv_loc[390:690]));"
   ]
  }
 ],
 "metadata": {
  "kernelspec": {
   "display_name": "Python 3",
   "language": "python",
   "name": "python3"
  },
  "language_info": {
   "codemirror_mode": {
    "name": "ipython",
    "version": 3
   },
   "file_extension": ".py",
   "mimetype": "text/x-python",
   "name": "python",
   "nbconvert_exporter": "python",
   "pygments_lexer": "ipython3",
   "version": "3.4.3"
  }
 },
 "nbformat": 4,
 "nbformat_minor": 2
}
